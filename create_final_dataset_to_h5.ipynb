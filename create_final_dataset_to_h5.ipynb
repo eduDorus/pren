{
 "cells": [
  {
   "cell_type": "markdown",
   "metadata": {},
   "source": [
    "# Create the final dataset in h5 format\n",
    "In this section we will create the h5 dataset with all our images. The tflearn function enables us to categorize them and normalize them so we don't have to do that from scratch. The images have to be in a root folder and the features have to be in their own folders (root_folder/feature_id). __The image shape is set to 640 x 480__"
   ]
  },
  {
   "cell_type": "code",
   "execution_count": null,
   "metadata": {
    "collapsed": false
   },
   "outputs": [],
   "source": [
    "from tflearn.data_utils import build_hdf5_image_dataset\n",
    "\n",
    "# Load path/class_id image file:\n",
    "data_folder = 'images/final_dataset'\n",
    "\n",
    "# Build a HDF5 dataset (only required once)\n",
    "build_hdf5_image_dataset(data_folder, \n",
    "                         image_shape=(480, 640), \n",
    "                         mode='folder', \n",
    "                         output_path='data/final_dataset.h5', \n",
    "                         categorical_labels=True, \n",
    "                         normalize=True)"
   ]
  }
 ],
 "metadata": {
  "kernelspec": {
   "display_name": "Python 3",
   "language": "python",
   "name": "python3"
  },
  "language_info": {
   "codemirror_mode": {
    "name": "ipython",
    "version": 3
   },
   "file_extension": ".py",
   "mimetype": "text/x-python",
   "name": "python",
   "nbconvert_exporter": "python",
   "pygments_lexer": "ipython3",
   "version": "3.4.2"
  }
 },
 "nbformat": 4,
 "nbformat_minor": 2
}
