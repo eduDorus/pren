{
 "cells": [
  {
   "cell_type": "markdown",
   "metadata": {
    "deletable": true,
    "editable": true
   },
   "source": [
    "# Script for realtime predictions with tensorflow an a self made dataset"
   ]
  },
  {
   "cell_type": "markdown",
   "metadata": {
    "deletable": true,
    "editable": true
   },
   "source": [
    "## Import all nessesary dependencies with time check"
   ]
  },
  {
   "cell_type": "code",
   "execution_count": null,
   "metadata": {
    "collapsed": false,
    "deletable": true,
    "editable": true
   },
   "outputs": [],
   "source": [
    "# Import time for performance measurements\n",
    "import time\n",
    "import numpy as np\n",
    "\n",
    "# Start time measuring\n",
    "start_time = time.time()\n",
    "\n",
    "# Import picamera\n",
    "import picamera\n",
    "import picamera.array\n",
    "print(\"--- %s seconds for picamera imports ---\" % (time.time() - start_time))\n",
    "\n",
    "#Import tflearn libraries\n",
    "from tflearn import DNN\n",
    "from tflearn.layers.conv import conv_2d, max_pool_2d\n",
    "from tflearn.layers.core import input_data, dropout, fully_connected\n",
    "from tflearn.layers.estimator import regression\n",
    "from tflearn.data_preprocessing import ImagePreprocessing\n",
    "from tflearn.data_augmentation import ImageAugmentation\n",
    "print(\"--- %s seconds for tflearn imports ---\" % (time.time() - start_time))\n"
   ]
  },
  {
   "cell_type": "markdown",
   "metadata": {
    "deletable": true,
    "editable": true
   },
   "source": [
    "## Create the convolutional neural network with realtime image preprocessing"
   ]
  },
  {
   "cell_type": "code",
   "execution_count": null,
   "metadata": {
    "collapsed": false,
    "deletable": true,
    "editable": true
   },
   "outputs": [],
   "source": [
    "# Start time measuring\n",
    "start_time = time.time()\n",
    "\n",
    "# Real-time data augmentation (This is only used while training the DNN)\n",
    "img_aug = ImageAugmentation()\n",
    "img_aug.add_random_blur(0.25)\n",
    "img_aug.add_random_rotation(max_angle=10.0)\n",
    "\n",
    "# Real-time data preprocessing\n",
    "img_prep = ImagePreprocessing()\n",
    "img_prep.add_featurewise_zero_center()\n",
    "img_prep.add_featurewise_stdnorm()\n",
    "print(\"--- %s seconds for image preprocessing functions ---\" % (time.time() - start_time))\n",
    "\n",
    "# Convolutional network building\n",
    "network = input_data(shape=[None, 120, 160, 3],\n",
    "                     data_augmentation=img_aug,\n",
    "                    data_preprocessing=img_prep)\n",
    "network = conv_2d(network, 64, 5, activation='relu')\n",
    "network = max_pool_2d(network, 4)\n",
    "network = conv_2d(network, 64, 3, activation='relu')\n",
    "network = max_pool_2d(network, 2)\n",
    "network = conv_2d(network, 128, 3, activation='relu')\n",
    "network = max_pool_2d(network, 2)\n",
    "network = fully_connected(network, 256, activation='relu')\n",
    "network = dropout(network, 1)\n",
    "network = fully_connected(network, 5, activation='softmax')\n",
    "network = regression(network, optimizer='adam',\n",
    "                     loss='categorical_crossentropy',\n",
    "                     learning_rate=0.001)\n",
    "\n",
    "model = DNN(network, tensorboard_verbose=0)\n",
    "print(\"--- %s seconds for creating the neural network ---\" % (time.time() - start_time))\n",
    "\n",
    "# Load the model\n",
    "model.load('models/final_model_aug_prep_4')\n",
    "print(\"--- %s seconds for importing the model ---\" % (time.time() - start_time))"
   ]
  },
  {
   "cell_type": "markdown",
   "metadata": {
    "deletable": true,
    "editable": true
   },
   "source": [
    "## Get camera images and transform them to numpy arrays for live feeding into our cnn"
   ]
  },
  {
   "cell_type": "code",
   "execution_count": null,
   "metadata": {
    "collapsed": false,
    "deletable": true,
    "editable": true
   },
   "outputs": [],
   "source": [
    "from matplotlib.pyplot import imshow\n",
    "np.set_printoptions(precision=4)\n",
    "%matplotlib inline"
   ]
  },
  {
   "cell_type": "code",
   "execution_count": null,
   "metadata": {
    "collapsed": false,
    "deletable": true,
    "editable": true,
    "scrolled": true
   },
   "outputs": [],
   "source": [
    "# Capture images for prediction\n",
    "with picamera.PiCamera() as camera:\n",
    "    camera.resolution = (160, 120)\n",
    "    time.sleep(1)\n",
    "    with picamera.array.PiRGBArray(camera) as output:\n",
    "        for i in range(60):\n",
    "            \n",
    "            camera.capture(output, 'rgb')\n",
    "            imshow(output.array)\n",
    "            \n",
    "            # Copy and reshape\n",
    "            X = np.array(output.array)\n",
    "            X = X.astype(float)\n",
    "            X = X.reshape((1, 120, 160, 3))\n",
    "            \n",
    "            # Make prediction\n",
    "            prediction_time = time.time()\n",
    "            prediction = np.round(model.predict(X), decimals=2)\n",
    "            print(\"                                                                \", end=\"\\r\")\n",
    "            print(prediction, end=\"\\r\")\n",
    "            \n",
    "            #print(\"--- %s seconds for the prediction ---\" % (time.time() - prediction_time))\n",
    "            output.truncate(0)\n",
    "        "
   ]
  },
  {
   "cell_type": "code",
   "execution_count": null,
   "metadata": {
    "collapsed": true,
    "deletable": true,
    "editable": true
   },
   "outputs": [],
   "source": []
  }
 ],
 "metadata": {
  "kernelspec": {
   "display_name": "Python 3",
   "language": "python",
   "name": "python3"
  },
  "language_info": {
   "codemirror_mode": {
    "name": "ipython",
    "version": 3
   },
   "file_extension": ".py",
   "mimetype": "text/x-python",
   "name": "python",
   "nbconvert_exporter": "python",
   "pygments_lexer": "ipython3",
   "version": "3.4.2"
  }
 },
 "nbformat": 4,
 "nbformat_minor": 2
}
