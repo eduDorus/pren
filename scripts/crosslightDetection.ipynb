{
 "cells": [
  {
   "cell_type": "code",
   "execution_count": null,
   "metadata": {
    "collapsed": true,
    "deletable": true,
    "editable": true
   },
   "outputs": [],
   "source": [
    "# Imports\n",
    "from tflearn import DNN\n",
    "from tflearn.layers.core import input_data, dropout, fully_connected\n",
    "from tflearn.layers.conv import conv_2d, max_pool_2d\n",
    "from tflearn.layers.estimator import regression\n",
    "import numpy as np"
   ]
  },
  {
   "cell_type": "code",
   "execution_count": null,
   "metadata": {
    "collapsed": true,
    "deletable": true,
    "editable": true
   },
   "outputs": [],
   "source": [
    "# Neural Net\n",
    "network = input_data(shape=[None, 224, 224, 3])\n",
    "network = conv_2d(network, 32, 5, activation='relu', name=\"conv2d-1\")\n",
    "network = max_pool_2d(network, 2)\n",
    "network = conv_2d(network, 32, 3, activation='relu', name=\"conv2d-2\")\n",
    "network = max_pool_2d(network, 2)\n",
    "network = fully_connected(network, 96, activation='relu')\n",
    "network = dropout(network, 0.5)\n",
    "network = fully_connected(network, 96, activation='relu')\n",
    "network = fully_connected(network, 2, activation='softmax')\n",
    "network = regression(network, optimizer='adam',\n",
    "                     loss='categorical_crossentropy',\n",
    "                     learning_rate=0.001)\n",
    "\n",
    "model = DNN(network, tensorboard_verbose=0)"
   ]
  },
  {
   "cell_type": "code",
   "execution_count": null,
   "metadata": {
    "collapsed": true,
    "deletable": true,
    "editable": true
   },
   "outputs": [],
   "source": [
    "model.load('../models/model_crosslight')"
   ]
  },
  {
   "cell_type": "code",
   "execution_count": null,
   "metadata": {
    "collapsed": true,
    "deletable": true,
    "editable": true
   },
   "outputs": [],
   "source": [
    "from picamera import PiCamera, array\n",
    "from time import sleep"
   ]
  },
  {
   "cell_type": "code",
   "execution_count": null,
   "metadata": {
    "collapsed": false,
    "deletable": true,
    "editable": true
   },
   "outputs": [],
   "source": [
    "with PiCamera() as camera:\n",
    "    camera.resolution = (224, 224)\n",
    "    sleep(1)\n",
    "    counter = 0;\n",
    "    with array.PiRGBArray(camera) as output:\n",
    "        while counter < 1:\n",
    "            camera.capture(output, 'rgb')\n",
    "            prediction = np.around(model.predict(output.array.astype(float).reshape((1, 224, 224, 3))), 3)\n",
    "            green = prediction[0]\n",
    "            print(green[0])\n",
    "            if green[0] > 0.90:\n",
    "                counter += 1\n",
    "            output.truncate(0)\n",
    "        print(\"go\")"
   ]
  }
 ],
 "metadata": {
  "kernelspec": {
   "display_name": "Python 3",
   "language": "python",
   "name": "python3"
  },
  "language_info": {
   "codemirror_mode": {
    "name": "ipython",
    "version": 3
   },
   "file_extension": ".py",
   "mimetype": "text/x-python",
   "name": "python",
   "nbconvert_exporter": "python",
   "pygments_lexer": "ipython3",
   "version": "3.4.2"
  }
 },
 "nbformat": 4,
 "nbformat_minor": 2
}
