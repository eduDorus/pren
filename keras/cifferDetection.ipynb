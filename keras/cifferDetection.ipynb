{
 "cells": [
  {
   "cell_type": "markdown",
   "metadata": {
    "deletable": true,
    "editable": true
   },
   "source": [
    "# Production ready crosslight detection"
   ]
  },
  {
   "cell_type": "markdown",
   "metadata": {
    "deletable": true,
    "editable": true
   },
   "source": [
    "### Lets create our model and load the weights"
   ]
  },
  {
   "cell_type": "code",
   "execution_count": null,
   "metadata": {
    "collapsed": false,
    "deletable": true,
    "editable": true
   },
   "outputs": [],
   "source": [
    "import display\n",
    "\n",
    "from keras.models import Sequential\n",
    "from keras.layers import Conv2D, MaxPooling2D\n",
    "from keras.layers import Activation, Dropout, Flatten, Dense\n",
    "\n",
    "from picamera import PiCamera, array\n",
    "from time import sleep\n",
    "from numpy import around"
   ]
  },
  {
   "cell_type": "code",
   "execution_count": null,
   "metadata": {
    "collapsed": true
   },
   "outputs": [],
   "source": [
    "image_height = 128\n",
    "image_width = 512"
   ]
  },
  {
   "cell_type": "code",
   "execution_count": null,
   "metadata": {
    "collapsed": true,
    "deletable": true,
    "editable": true
   },
   "outputs": [],
   "source": [
    "model = Sequential()\n",
    "model.add(Conv2D(32, (3, 3), input_shape=(image_height, image_width, 3)))\n",
    "model.add(Activation('relu'))\n",
    "model.add(MaxPooling2D(pool_size=(2, 2)))\n",
    "\n",
    "model.add(Conv2D(32, (3, 3)))\n",
    "model.add(Activation('relu'))\n",
    "model.add(MaxPooling2D(pool_size=(2, 2)))\n",
    "\n",
    "model.add(Conv2D(32, (3, 3)))\n",
    "model.add(Activation('relu'))\n",
    "model.add(MaxPooling2D(pool_size=(2, 2)))\n",
    "\n",
    "# the model so far outputs 3D feature maps (height, width, features)\n",
    "\n",
    "model.add(Flatten())  # this converts our 3D feature maps to 1D feature vectors\n",
    "model.add(Dense(64))\n",
    "model.add(Activation('relu'))\n",
    "model.add(Dropout(1))\n",
    "model.add(Dense(6))\n",
    "model.add(Activation('sigmoid'))\n",
    "\n",
    "model.compile(loss='categorical_crossentropy',\n",
    "              optimizer='adam',\n",
    "              metrics=['accuracy'])\n",
    "\n",
    "model.load_weights('/home/pi/repositories/pren/models/ciffer.h5')"
   ]
  },
  {
   "cell_type": "markdown",
   "metadata": {
    "deletable": true,
    "editable": true
   },
   "source": [
    "### Raspberry camera logic"
   ]
  },
  {
   "cell_type": "code",
   "execution_count": null,
   "metadata": {
    "collapsed": true,
    "deletable": true,
    "editable": true
   },
   "outputs": [],
   "source": [
    "def checkPrediction(prediction):\n",
    "    if prediction[0] >= 0.95:\n",
    "        display.one()\n",
    "        print(\"1\")\n",
    "        break\n",
    "\n",
    "    if prediction[1] >= 0.95:\n",
    "        display.two()\n",
    "        print(\"2\")\n",
    "        break\n",
    "\n",
    "    if prediction[2] >= 0.95:\n",
    "        display.three()\n",
    "        print(\"3\")\n",
    "        break\n",
    "\n",
    "    if prediction[3] >= 0.95:\n",
    "        display.four()\n",
    "        print(\"4\")\n",
    "        break\n",
    "\n",
    "    if prediction[4] >= 0.95:\n",
    "        display.five()\n",
    "        print(\"5\")\n",
    "        break"
   ]
  },
  {
   "cell_type": "code",
   "execution_count": null,
   "metadata": {
    "collapsed": true,
    "deletable": true,
    "editable": true
   },
   "outputs": [],
   "source": [
    "with PiCamera() as camera:\n",
    "    camera.resolution = (128, 512)\n",
    "    sleep(1)\n",
    "    number_found = False\n",
    "    \n",
    "    \n",
    "    display.one()\n",
    "    with array.PiRGBArray(camera) as output:\n",
    "        while True:\n",
    "            camera.capture(output, 'rgb')\n",
    "            \n",
    "            # Lösungsweg 1\n",
    "            img = output.array.astype(float)\n",
    "            img = img.reshape((1,) + img.shape)\n",
    "            prediction = around(model.predict(img), 3)[0]\n",
    "\n",
    "            # Lösungsweg 2\n",
    "            #prediction = around(model.predict(output.array), 3)[0]\n",
    "            \n",
    "            print(prediction)\n",
    "            checkPrediction(prediction)\n",
    "            \n",
    "            output.truncate(0)"
   ]
  }
 ],
 "metadata": {
  "kernelspec": {
   "display_name": "Python 3",
   "language": "python",
   "name": "python3"
  },
  "language_info": {
   "codemirror_mode": {
    "name": "ipython",
    "version": 3
   },
   "file_extension": ".py",
   "mimetype": "text/x-python",
   "name": "python",
   "nbconvert_exporter": "python",
   "pygments_lexer": "ipython3",
   "version": "3.5.3"
  }
 },
 "nbformat": 4,
 "nbformat_minor": 2
}
