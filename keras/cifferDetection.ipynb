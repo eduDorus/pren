{
 "cells": [
  {
   "cell_type": "markdown",
   "metadata": {},
   "source": [
    "# Production ready crosslight detection"
   ]
  },
  {
   "cell_type": "markdown",
   "metadata": {},
   "source": [
    "### Lets create our model and load the weights"
   ]
  },
  {
   "cell_type": "code",
   "execution_count": null,
   "metadata": {},
   "outputs": [],
   "source": [
    "import display\n",
    "\n",
    "from keras.models import Sequential\n",
    "from keras.layers import Conv2D, MaxPooling2D\n",
    "from keras.layers import Activation, Dropout, Flatten, Dense\n",
    "\n",
    "from picamera import PiCamera, array\n",
    "from time import sleep\n",
    "from numpy import around"
   ]
  },
  {
   "cell_type": "code",
   "execution_count": null,
   "metadata": {
    "collapsed": true
   },
   "outputs": [],
   "source": [
    "image_height = 256\n",
    "image_width = 256"
   ]
  },
  {
   "cell_type": "code",
   "execution_count": null,
   "metadata": {
    "collapsed": true
   },
   "outputs": [],
   "source": [
    "model = Sequential()\n",
    "\n",
    "model.add(Conv2D(16, (7, 7), activation='relu', padding='same', name='block1_conv1', input_shape=(image_height, image_width, 1)))\n",
    "model.add(Conv2D(16, (7, 7), activation='relu', padding='same', name='block1_conv2',))\n",
    "model.add(MaxPooling2D(pool_size=(4, 4), strides=(4, 4), name='block1_pool'))\n",
    "\n",
    "model.add(Conv2D(32, (5, 5), activation='relu', padding='same', name='block2_conv1',))\n",
    "model.add(Conv2D(32, (5, 5), activation='relu', padding='same', name='block2_conv2',))\n",
    "model.add(MaxPooling2D(pool_size=(4, 4), strides=(4, 4), name='block2_pool'))\n",
    "\n",
    "model.add(Conv2D(64, (3, 3), activation='relu', padding='same', name='block3_conv1',))\n",
    "model.add(Conv2D(64, (3, 3), activation='relu', padding='same', name='block3_conv2',))\n",
    "model.add(MaxPooling2D(pool_size=(4, 4), strides=(4, 4), name='block3_pool'))\n",
    "\n",
    "model.add(Flatten())\n",
    "model.add(Dense(128, activation='relu', name=\"fc-1\"))\n",
    "model.add(Dropout(1))\n",
    "model.add(Dense(128, activation='relu', name=\"fc-2\"))\n",
    "model.add(Dense(6, activation='sigmoid'))\n",
    "\n",
    "model.compile(loss='categorical_crossentropy',\n",
    "              optimizer='adam',\n",
    "              metrics=['accuracy'])\n",
    "\n",
    "model.load_weights('/home/pi/repositories/pren/models/ciffer.h5')"
   ]
  },
  {
   "cell_type": "markdown",
   "metadata": {},
   "source": [
    "### Raspberry camera logic"
   ]
  },
  {
   "cell_type": "code",
   "execution_count": null,
   "metadata": {
    "collapsed": true
   },
   "outputs": [],
   "source": [
    "def checkPrediction(prediction):\n",
    "    if prediction[0] >= 0.90:\n",
    "        display.one()\n",
    "        print(\"1\")\n",
    "        break\n",
    "\n",
    "    if prediction[1] >= 0.90:\n",
    "        display.two()\n",
    "        print(\"2\")\n",
    "        break\n",
    "\n",
    "    if prediction[2] >= 0.90:\n",
    "        display.three()\n",
    "        print(\"3\")\n",
    "        break\n",
    "\n",
    "    if prediction[3] >= 0.90:\n",
    "        display.four()\n",
    "        print(\"4\")\n",
    "        break\n",
    "\n",
    "    if prediction[4] >= 0.90:\n",
    "        display.five()\n",
    "        print(\"5\")\n",
    "        break"
   ]
  },
  {
   "cell_type": "code",
   "execution_count": null,
   "metadata": {
    "collapsed": true
   },
   "outputs": [],
   "source": [
    "with PiCamera() as camera:\n",
    "    camera.resolution = (256, 256)\n",
    "    sleep(1)\n",
    "    number_found = False\n",
    "    \n",
    "    \n",
    "    display.one()\n",
    "    #MAYBE YUV TAKE THE Y\n",
    "    with array.PiRGBArray(camera) as output:\n",
    "        while True:\n",
    "            camera.capture(output, 'rgb')\n",
    "            \n",
    "            # Lösungsweg 1\n",
    "            x = output.array\n",
    "            x = x.reshape((1,) + x.shape)\n",
    "            x = x * (1./255)\n",
    "            \n",
    "            prediction = around(model.predict(x), 3)[0][0]\n",
    "\n",
    "            # Lösungsweg 2\n",
    "            #prediction = around(model.predict(output.array), 3)[0]\n",
    "            \n",
    "            print(prediction)\n",
    "            checkPrediction(prediction)\n",
    "            \n",
    "            output.truncate(0)"
   ]
  }
 ],
 "metadata": {
  "kernelspec": {
   "display_name": "Python 3",
   "language": "python",
   "name": "python3"
  },
  "language_info": {
   "codemirror_mode": {
    "name": "ipython",
    "version": 3
   },
   "file_extension": ".py",
   "mimetype": "text/x-python",
   "name": "python",
   "nbconvert_exporter": "python",
   "pygments_lexer": "ipython3",
   "version": "3.6.1"
  }
 },
 "nbformat": 4,
 "nbformat_minor": 2
}
