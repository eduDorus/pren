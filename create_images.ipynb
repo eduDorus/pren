{
 "cells": [
  {
   "cell_type": "markdown",
   "metadata": {},
   "source": [
    "# Create image dataset"
   ]
  },
  {
   "cell_type": "markdown",
   "metadata": {},
   "source": [
    "## Import camera and set resolution"
   ]
  },
  {
   "cell_type": "code",
   "execution_count": null,
   "metadata": {
    "collapsed": false
   },
   "outputs": [],
   "source": [
    "from picamera import PiCamera\n",
    "\n",
    "camera = PiCamera()\n",
    "camera.resolution = (640, 480)"
   ]
  },
  {
   "cell_type": "markdown",
   "metadata": {},
   "source": [
    "## Create I images"
   ]
  },
  {
   "cell_type": "code",
   "execution_count": null,
   "metadata": {
    "collapsed": false
   },
   "outputs": [],
   "source": [
    "image_1 = 720"
   ]
  },
  {
   "cell_type": "code",
   "execution_count": null,
   "metadata": {
    "collapsed": false
   },
   "outputs": [],
   "source": [
    "new = image_1 + 20\n",
    "while (image_1 < new):\n",
    "    image_1 += 1\n",
    "    camera.capture('images/final_dataset/0/image_{0}.jpg'.format(image_1))\n",
    "    print(\"captured image : \", image_1, end='\\r')"
   ]
  },
  {
   "cell_type": "markdown",
   "metadata": {},
   "source": [
    "## Create II images"
   ]
  },
  {
   "cell_type": "code",
   "execution_count": null,
   "metadata": {
    "collapsed": true
   },
   "outputs": [],
   "source": [
    "image_02 = 520"
   ]
  },
  {
   "cell_type": "code",
   "execution_count": null,
   "metadata": {
    "collapsed": false
   },
   "outputs": [],
   "source": [
    "new = image_2 + 20\n",
    "while (image_2 < new):\n",
    "    image_2 += 1\n",
    "    camera.capture('images/final_dataset/1/image_{0}.jpg'.format(image_2))\n",
    "    print(\"captured image : \", image_2, end='\\r')"
   ]
  },
  {
   "cell_type": "markdown",
   "metadata": {},
   "source": [
    "## Create III images"
   ]
  },
  {
   "cell_type": "code",
   "execution_count": null,
   "metadata": {
    "collapsed": true
   },
   "outputs": [],
   "source": [
    "image_3 = 420"
   ]
  },
  {
   "cell_type": "code",
   "execution_count": null,
   "metadata": {
    "collapsed": false
   },
   "outputs": [],
   "source": [
    "new = image_3 + 20\n",
    "while (image_3 < new):\n",
    "    image_3 += 1\n",
    "    camera.capture('images/final_dataset/2/image_{0}.jpg'.format(image_3))\n",
    "    print(\"captured image : \", image_3, end='\\r')"
   ]
  },
  {
   "cell_type": "markdown",
   "metadata": {},
   "source": [
    "## Create IV images"
   ]
  },
  {
   "cell_type": "code",
   "execution_count": null,
   "metadata": {
    "collapsed": true
   },
   "outputs": [],
   "source": [
    "image_4 = 420"
   ]
  },
  {
   "cell_type": "code",
   "execution_count": null,
   "metadata": {
    "collapsed": false
   },
   "outputs": [],
   "source": [
    "new = image_4 + 20\n",
    "while (image_4 < new):\n",
    "    image_4 += 1\n",
    "    camera.capture('images/final_dataset/3/image_{0}.jpg'.format(image_4))\n",
    "    print(\"captured image : \", image_4, end='\\r')"
   ]
  },
  {
   "cell_type": "markdown",
   "metadata": {},
   "source": [
    "## Create V images"
   ]
  },
  {
   "cell_type": "code",
   "execution_count": null,
   "metadata": {
    "collapsed": true
   },
   "outputs": [],
   "source": [
    "image_5 = 420"
   ]
  },
  {
   "cell_type": "code",
   "execution_count": null,
   "metadata": {
    "collapsed": false
   },
   "outputs": [],
   "source": [
    "new = image_5 + 20\n",
    "while (image_5 < new):\n",
    "    image_5 += 1\n",
    "    camera.capture('images/final_dataset/4/image_{0}.jpg'.format(image_5))\n",
    "    print(\"captured image : \", image_5, end='\\r')"
   ]
  },
  {
   "cell_type": "markdown",
   "metadata": {},
   "source": [
    "## Create crosslight green images"
   ]
  },
  {
   "cell_type": "code",
   "execution_count": null,
   "metadata": {
    "collapsed": true
   },
   "outputs": [],
   "source": [
    "image_6 = 176"
   ]
  },
  {
   "cell_type": "code",
   "execution_count": null,
   "metadata": {
    "collapsed": true
   },
   "outputs": [],
   "source": [
    "new = image_6 + 20\n",
    "while (image_6 < new):\n",
    "    image_6 += 1\n",
    "    camera.capture('images/final_dataset/5/image_{0}.jpg'.format(image_6))\n",
    "    print(\"captured image : \", image_6, end='\\r')"
   ]
  },
  {
   "cell_type": "markdown",
   "metadata": {},
   "source": [
    "## Create crosslight red images"
   ]
  },
  {
   "cell_type": "code",
   "execution_count": null,
   "metadata": {
    "collapsed": true
   },
   "outputs": [],
   "source": [
    "image_7 = 157"
   ]
  },
  {
   "cell_type": "code",
   "execution_count": null,
   "metadata": {
    "collapsed": true
   },
   "outputs": [],
   "source": [
    "new = image_7 + 20\n",
    "while (image_7 < new):\n",
    "    image_7 += 1\n",
    "    camera.capture('images/final_dataset/6/image_{0}.jpg'.format(image_7))\n",
    "    print(\"captured image : \", image_7, end='\\r')"
   ]
  }
 ],
 "metadata": {
  "kernelspec": {
   "display_name": "Python 3",
   "language": "python",
   "name": "python3"
  },
  "language_info": {
   "codemirror_mode": {
    "name": "ipython",
    "version": 3
   },
   "file_extension": ".py",
   "mimetype": "text/x-python",
   "name": "python",
   "nbconvert_exporter": "python",
   "pygments_lexer": "ipython3",
   "version": "3.4.2"
  }
 },
 "nbformat": 4,
 "nbformat_minor": 2
}
