{
 "cells": [
  {
   "cell_type": "markdown",
   "metadata": {
    "deletable": true,
    "editable": true
   },
   "source": [
    "# Create image dataset"
   ]
  },
  {
   "cell_type": "markdown",
   "metadata": {
    "deletable": true,
    "editable": true
   },
   "source": [
    "## Import camera and set resolution"
   ]
  },
  {
   "cell_type": "code",
   "execution_count": null,
   "metadata": {
    "collapsed": false
   },
   "outputs": [],
   "source": [
    "import numpy as np\n",
    "from picamera import PiCamera, array\n",
    "from time import sleep, time\n",
    "\n",
    "from keras.models import Sequential\n",
    "from keras.layers import Conv2D, MaxPooling2D\n",
    "from keras.layers import Dropout, Flatten, Dense"
   ]
  },
  {
   "cell_type": "code",
   "execution_count": null,
   "metadata": {
    "collapsed": false,
    "deletable": true,
    "editable": true
   },
   "outputs": [],
   "source": [
    "def loadCifferModel(image_height, image_width):\n",
    "    \n",
    "\n",
    "    model = Sequential()\n",
    "    model.add(Conv2D(16, (7, 7), activation='relu', padding='same', name='block1_conv1', input_shape=(image_height, image_width, 1)))\n",
    "    model.add(Conv2D(16, (7, 7), activation='relu', padding='same', name='block1_conv2',))\n",
    "    model.add(MaxPooling2D(pool_size=(4, 4), strides=(4, 4), name='block1_pool'))\n",
    "\n",
    "    model.add(Conv2D(32, (5, 5), activation='relu', padding='same', name='block2_conv1',))\n",
    "    model.add(Conv2D(32, (5, 5), activation='relu', padding='same', name='block2_conv2',))\n",
    "    model.add(MaxPooling2D(pool_size=(4, 4), strides=(4, 4), name='block2_pool'))\n",
    "\n",
    "    model.add(Conv2D(64, (3, 3), activation='relu', padding='same', name='block3_conv1',))\n",
    "    model.add(Conv2D(64, (3, 3), activation='relu', padding='same', name='block3_conv2',))\n",
    "    model.add(MaxPooling2D(pool_size=(4, 4), strides=(4, 4), name='block3_pool'))\n",
    "\n",
    "    # the model so far outputs 3D feature maps (height, width, features)\n",
    "\n",
    "    # this converts our 3D feature maps to 1D feature vectors\n",
    "    model.add(Flatten())\n",
    "    model.add(Dense(128, activation='relu', name=\"fc-1\"))\n",
    "    model.add(Dropout(0.8))\n",
    "    model.add(Dense(128, activation='relu', name=\"fc-2\"))\n",
    "    model.add(Dense(6, activation='sigmoid'))\n",
    "\n",
    "    model.compile(loss='categorical_crossentropy',\n",
    "                  optimizer='adam',\n",
    "                  metrics=['accuracy'])\n",
    "\n",
    "    model.load_weights('/home/pi/repositories/pren/models/ciffer.h5')\n",
    "    \n",
    "    return model\n",
    "\n",
    "model = loadCifferModel(256, 256)"
   ]
  },
  {
   "cell_type": "code",
   "execution_count": null,
   "metadata": {
    "collapsed": true,
    "deletable": true,
    "editable": true
   },
   "outputs": [],
   "source": [
    "with PiCamera() as camera:\n",
    "    with array.PiRGBArray(camera) as stream:\n",
    "        \n",
    "        # Camera Settings\n",
    "        camera.resolution = (256, 256)\n",
    "        #camera.color_effects = (128, 128)\n",
    "        camera.framerate = 15\n",
    "        camera.exposure_mode = 'sports'\n",
    "        #camera.awb_mode = 'fluorescent\n",
    "        \n",
    "        # Warum Up for Camera'\n",
    "        sleep(1)\n",
    "        \n",
    "        imageQueue = []\n",
    "        \n",
    "        while True:\n",
    "            camera.capture(stream, 'rgb', use_video_port=True)\n",
    "\n",
    "            # Process array for CNN prediction\n",
    "            x = stream.array\n",
    "            x = np.dot(x[...,:3], [.3, .6, .1])\n",
    "            \n",
    "            # Set batchsize to 1 for single prediction\n",
    "            x = x.reshape((1,) + x.shape)\n",
    "            \n",
    "            # Set color channel to 1 for grayscale image\n",
    "            x = x.reshape(x.shape + (1,))\n",
    "            x = x * (1. / 255)\n",
    "            \n",
    "            print(np.around(model.predict(x), 2)[0])\n",
    "            #imageQueue.append(x)\n",
    "            stream.truncate(0)\n",
    "\n",
    "            if len(imageQueue) >= 20:\n",
    "\n",
    "                #start_time = time()\n",
    "                #for img in imageQueue:\n",
    "                    #img = img.reshape((1,) + img.shape)\n",
    "                    #print(np.around(model.predict(img), 2)[0])\n",
    "                #print(time() - start_time)\n",
    "                break"
   ]
  },
  {
   "cell_type": "code",
   "execution_count": null,
   "metadata": {
    "collapsed": true,
    "deletable": true,
    "editable": true
   },
   "outputs": [],
   "source": [
    "with PiCamera() as camera:\n",
    "    with array.PiRGBArray(camera) as stream:\n",
    "        camera.resolution = (256, 256)\n",
    "        camera.color_effects = (128, 128)\n",
    "        camera.framerate = 10\n",
    "        camera.exposure_mode = 'sports'\n",
    "        #camera.awb_mode = 'fluorescent'\n",
    "        sleep(1)\n",
    "        \n",
    "        counter = 0\n",
    "        while True:\n",
    "            # Start Time\n",
    "            start_time = time()\n",
    "            \n",
    "            # Capture image\n",
    "            camera.capture(stream, 'rgb', use_video_port=True)\n",
    "            \n",
    "            # Print image array size\n",
    "            #print(stream.array.shape)\n",
    "            \n",
    "            \n",
    "            \n",
    "            x = stream.array\n",
    "            x = np.dot(x[...,:3], [.3, .6, .1])\n",
    "            x = x.reshape((1,) + x.shape)\n",
    "            x = x.reshape(x.shape + (1,))\n",
    "            #print(x[0])\n",
    "            x = x * (1. / 255)\n",
    "            #print(x[0])\n",
    "            \n",
    "            \n",
    "            \n",
    "            \n",
    "            prediction = np.around(model.predict(x), 2)[0]\n",
    "            \n",
    "            # Print end time\n",
    "            print(time() - start_time)\n",
    "            \n",
    "            print(prediction)\n",
    "            \n",
    "            #imshow(x, cmap='gray')\n",
    "            \n",
    "            # Truncate image\n",
    "            stream.truncate(0)\n",
    "            \n",
    "            \n",
    "            \n",
    "            counter += 1\n",
    "            if counter > 0:\n",
    "                break"
   ]
  },
  {
   "cell_type": "markdown",
   "metadata": {
    "deletable": true,
    "editable": true
   },
   "source": [
    "## Create I images"
   ]
  },
  {
   "cell_type": "code",
   "execution_count": null,
   "metadata": {
    "collapsed": false,
    "deletable": true,
    "editable": true
   },
   "outputs": [],
   "source": [
    "image_1 = 1221"
   ]
  },
  {
   "cell_type": "code",
   "execution_count": null,
   "metadata": {
    "collapsed": false,
    "deletable": true,
    "editable": true
   },
   "outputs": [],
   "source": [
    "new = image_1 + 20\n",
    "while (image_1 < new):\n",
    "    image_1 += 1\n",
    "    camera.capture('images/final_dataset/0/image_{0}.jpg'.format(image_1))\n",
    "    print(\"captured image : \", image_1, end='\\r')"
   ]
  },
  {
   "cell_type": "markdown",
   "metadata": {
    "deletable": true,
    "editable": true
   },
   "source": [
    "## Create II images"
   ]
  },
  {
   "cell_type": "code",
   "execution_count": null,
   "metadata": {
    "collapsed": true,
    "deletable": true,
    "editable": true
   },
   "outputs": [],
   "source": [
    "image_2 = 1000"
   ]
  },
  {
   "cell_type": "code",
   "execution_count": null,
   "metadata": {
    "collapsed": false,
    "deletable": true,
    "editable": true
   },
   "outputs": [],
   "source": [
    "new = image_2 + 20\n",
    "while (image_2 < new):\n",
    "    image_2 += 1\n",
    "    camera.capture('images/final_dataset/1/image_{0}.jpg'.format(image_2))\n",
    "    print(\"captured image : \", image_2, end='\\r')"
   ]
  },
  {
   "cell_type": "markdown",
   "metadata": {
    "deletable": true,
    "editable": true
   },
   "source": [
    "## Create III images"
   ]
  },
  {
   "cell_type": "code",
   "execution_count": null,
   "metadata": {
    "collapsed": true,
    "deletable": true,
    "editable": true
   },
   "outputs": [],
   "source": [
    "image_3 = 900"
   ]
  },
  {
   "cell_type": "code",
   "execution_count": null,
   "metadata": {
    "collapsed": false,
    "deletable": true,
    "editable": true
   },
   "outputs": [],
   "source": [
    "new = image_3 + 20\n",
    "while (image_3 < new):\n",
    "    image_3 += 1\n",
    "    camera.capture('images/final_dataset/2/image_{0}.jpg'.format(image_3))\n",
    "    print(\"captured image : \", image_3, end='\\r')"
   ]
  },
  {
   "cell_type": "markdown",
   "metadata": {
    "deletable": true,
    "editable": true
   },
   "source": [
    "## Create IV images"
   ]
  },
  {
   "cell_type": "code",
   "execution_count": null,
   "metadata": {
    "collapsed": true,
    "deletable": true,
    "editable": true
   },
   "outputs": [],
   "source": [
    "image_4 = 920"
   ]
  },
  {
   "cell_type": "code",
   "execution_count": null,
   "metadata": {
    "collapsed": false,
    "deletable": true,
    "editable": true
   },
   "outputs": [],
   "source": [
    "new = image_4 + 20\n",
    "while (image_4 < new):\n",
    "    image_4 += 1\n",
    "    camera.capture('images/final_dataset/3/image_{0}.jpg'.format(image_4))\n",
    "    print(\"captured image : \", image_4, end='\\r')"
   ]
  },
  {
   "cell_type": "markdown",
   "metadata": {
    "deletable": true,
    "editable": true
   },
   "source": [
    "## Create V images"
   ]
  },
  {
   "cell_type": "code",
   "execution_count": null,
   "metadata": {
    "collapsed": true,
    "deletable": true,
    "editable": true
   },
   "outputs": [],
   "source": [
    "image_5 = 900"
   ]
  },
  {
   "cell_type": "code",
   "execution_count": null,
   "metadata": {
    "collapsed": false,
    "deletable": true,
    "editable": true
   },
   "outputs": [],
   "source": [
    "new = image_5 + 20\n",
    "while (image_5 < new):\n",
    "    image_5 += 1\n",
    "    camera.capture('images/final_dataset/4/image_{0}.jpg'.format(image_5))\n",
    "    print(\"captured image : \", image_5, end='\\r')"
   ]
  },
  {
   "cell_type": "markdown",
   "metadata": {
    "deletable": true,
    "editable": true
   },
   "source": [
    "## Create crosslight green images"
   ]
  },
  {
   "cell_type": "code",
   "execution_count": null,
   "metadata": {
    "collapsed": true,
    "deletable": true,
    "editable": true
   },
   "outputs": [],
   "source": [
    "image_6 = 80"
   ]
  },
  {
   "cell_type": "code",
   "execution_count": null,
   "metadata": {
    "collapsed": true,
    "deletable": true,
    "editable": true
   },
   "outputs": [],
   "source": [
    "new = image_6 + 20\n",
    "while (image_6 < new):\n",
    "    image_6 += 1\n",
    "    camera.capture('../images/crosslight/new/green/image_{0}.jpg'.format(image_6))\n",
    "    print(\"captured image : \", image_6, end='\\r')"
   ]
  },
  {
   "cell_type": "markdown",
   "metadata": {
    "deletable": true,
    "editable": true
   },
   "source": [
    "## Create crosslight red images"
   ]
  },
  {
   "cell_type": "code",
   "execution_count": null,
   "metadata": {
    "collapsed": true,
    "deletable": true,
    "editable": true
   },
   "outputs": [],
   "source": [
    "image_7 = 80"
   ]
  },
  {
   "cell_type": "code",
   "execution_count": null,
   "metadata": {
    "collapsed": true,
    "deletable": true,
    "editable": true
   },
   "outputs": [],
   "source": [
    "new = image_7 + 20\n",
    "while (image_7 < new):\n",
    "    image_7 += 1\n",
    "    camera.capture('../images/crosslight/new/red/image_{0}.jpg'.format(image_7))\n",
    "    print(\"captured image : \", image_7, end='\\r')"
   ]
  }
 ],
 "metadata": {
  "kernelspec": {
   "display_name": "Python 3",
   "language": "python",
   "name": "python3"
  },
  "language_info": {
   "codemirror_mode": {
    "name": "ipython",
    "version": 3
   },
   "file_extension": ".py",
   "mimetype": "text/x-python",
   "name": "python",
   "nbconvert_exporter": "python",
   "pygments_lexer": "ipython3",
   "version": "3.5.3"
  }
 },
 "nbformat": 4,
 "nbformat_minor": 2
}
