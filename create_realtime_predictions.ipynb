{
 "cells": [
  {
   "cell_type": "markdown",
   "metadata": {
    "deletable": true,
    "editable": true
   },
   "source": [
    "# Script for realtime predictions with tensorflow an a self made dataset"
   ]
  },
  {
   "cell_type": "markdown",
   "metadata": {
    "deletable": true,
    "editable": true
   },
   "source": [
    "## Import all nessesary dependencies with time check"
   ]
  },
  {
   "cell_type": "code",
   "execution_count": null,
   "metadata": {
    "collapsed": false,
    "deletable": true,
    "editable": true
   },
   "outputs": [],
   "source": [
    "# Import time for performance measurements\n",
    "import time\n",
    "\n",
    "# Start time measuring\n",
    "start_time = time.time()\n",
    "\n",
    "# Import picamera\n",
    "import picamera\n",
    "import picamera.array\n",
    "print(\"--- %s seconds for picamera imports ---\" % (time.time() - start_time))\n",
    "\n",
    "#Import tflearn libraries\n",
    "from tflearn import DNN\n",
    "from tflearn.layers.conv import conv_2d, max_pool_2d\n",
    "from tflearn.layers.core import input_data, dropout, fully_connected\n",
    "from tflearn.layers.estimator import regression\n",
    "from tflearn.data_preprocessing import ImagePreprocessing\n",
    "print(\"--- %s seconds for tflearn imports ---\" % (time.time() - start_time))\n"
   ]
  },
  {
   "cell_type": "markdown",
   "metadata": {
    "deletable": true,
    "editable": true
   },
   "source": [
    "## Create the convolutional neural network with realtime image preprocessing"
   ]
  },
  {
   "cell_type": "code",
   "execution_count": null,
   "metadata": {
    "collapsed": false,
    "deletable": true,
    "editable": true
   },
   "outputs": [],
   "source": [
    "# Start time measuring\n",
    "start_time = time.time()\n",
    "\n",
    "# Real-time data preprocessing\n",
    "img_prep = ImagePreprocessing()\n",
    "img_prep.add_featurewise_zero_center()\n",
    "img_prep.add_featurewise_stdnorm()\n",
    "print(\"--- %s seconds for image preprocessing functions ---\" % (time.time() - start_time))\n",
    "\n",
    "# Create model structure\n",
    "network = input_data(shape=[None, 640, 480, 3],\n",
    "                     data_preprocessing=img_prep)\n",
    "network = conv_2d(network, 16, 3, activation='relu')\n",
    "network = max_pool_2d(network, 2)\n",
    "network = conv_2d(network, 16, 3, activation='relu')\n",
    "network = max_pool_2d(network, 2)\n",
    "network = conv_2d(network, 16, 3, activation='relu')\n",
    "network = max_pool_2d(network, 2)\n",
    "network = fully_connected(network, 128, activation='relu')\n",
    "network = dropout(network, 1)\n",
    "network = fully_connected(network, 8, activation='softmax')\n",
    "network = regression(network, optimizer='adam', loss='categorical_crossentropy', learning_rate=0.001)\n",
    "\n",
    "# Create the Neural Network\n",
    "model = DNN(network, tensorboard_verbose=0)\n",
    "print(\"--- %s seconds for creating the neural network ---\" % (time.time() - start_time))\n",
    "\n",
    "# Load the model\n",
    "model.load('models/final_model')\n",
    "print(\"--- %s seconds for importing the model ---\" % (time.time() - start_time))"
   ]
  },
  {
   "cell_type": "markdown",
   "metadata": {
    "deletable": true,
    "editable": true
   },
   "source": [
    "## Get camera images and transform them to numpy arrays for live feeding into our cnn"
   ]
  },
  {
   "cell_type": "code",
   "execution_count": null,
   "metadata": {
    "collapsed": true,
    "deletable": true,
    "editable": true
   },
   "outputs": [],
   "source": [
    "# Start time measuring\n",
    "start_time = time.time()\n",
    "\n",
    "# Capture images for prediction\n",
    "with picamera.PiCamera() as camera:\n",
    "    with picamera.array.PiRGBArray(camera) as output:\n",
    "        camera.resolution = (640, 480)\n",
    "        print(\"--- %s seconds for camera ready to use ---\" % (time.time() - start_time))\n",
    "        camera.capture(output, 'rgb')\n",
    "        print(\"--- %s seconds for image captures and transformed ---\" % (time.time() - start_time))\n",
    "        print('Captured %dx%dx%d image' % (\n",
    "                output.array.shape[1], output.array.shape[0], output.array.shape[2]))\n",
    "        prediction_time = time.time()\n",
    "        model.predict(output.array)\n",
    "        print(\"--- %s seconds for the prediction ---\" % (time.time() - prediction_time))\n",
    "        print(\"--- %s seconds for making a prediction ---\" % (time.time() - start_time))\n",
    "        output.truncate(0)"
   ]
  }
 ],
 "metadata": {
  "kernelspec": {
   "display_name": "Python 3",
   "language": "python",
   "name": "python3"
  },
  "language_info": {
   "codemirror_mode": {
    "name": "ipython",
    "version": 3
   },
   "file_extension": ".py",
   "mimetype": "text/x-python",
   "name": "python",
   "nbconvert_exporter": "python",
   "pygments_lexer": "ipython3",
   "version": "3.4.2"
  }
 },
 "nbformat": 4,
 "nbformat_minor": 2
}
