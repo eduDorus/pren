{
 "cells": [
  {
   "cell_type": "markdown",
   "metadata": {
    "deletable": true,
    "editable": true
   },
   "source": [
    "# Script for realtime predictions with tensorflow an a self made dataset"
   ]
  },
  {
   "cell_type": "markdown",
   "metadata": {
    "deletable": true,
    "editable": true
   },
   "source": [
    "## Import all nessesary dependencies with time check"
   ]
  },
  {
   "cell_type": "code",
   "execution_count": 1,
   "metadata": {
    "collapsed": false,
    "deletable": true,
    "editable": true
   },
   "outputs": [
    {
     "name": "stdout",
     "output_type": "stream",
     "text": [
      "--- 6.008148193359375e-05 seconds for picamera imports ---\n",
      "--- 2.0354011058807373 seconds for tflearn imports ---\n"
     ]
    }
   ],
   "source": [
    "# Import time for performance measurements\n",
    "import time\n",
    "import numpy as np\n",
    "\n",
    "# Start time measuring\n",
    "start_time = time.time()\n",
    "\n",
    "# Import picamera\n",
    "#import picamera\n",
    "#import picamera.array\n",
    "print(\"--- %s seconds for picamera imports ---\" % (time.time() - start_time))\n",
    "\n",
    "#Import tflearn libraries\n",
    "from tflearn import DNN\n",
    "from tflearn.layers.conv import conv_2d, max_pool_2d\n",
    "from tflearn.layers.core import input_data, dropout, fully_connected\n",
    "from tflearn.layers.estimator import regression\n",
    "from tflearn.data_preprocessing import ImagePreprocessing\n",
    "from tflearn.data_augmentation import ImageAugmentation\n",
    "print(\"--- %s seconds for tflearn imports ---\" % (time.time() - start_time))\n"
   ]
  },
  {
   "cell_type": "markdown",
   "metadata": {
    "deletable": true,
    "editable": true
   },
   "source": [
    "## Create the convolutional neural network with realtime image preprocessing"
   ]
  },
  {
   "cell_type": "code",
   "execution_count": 2,
   "metadata": {
    "collapsed": false,
    "deletable": true,
    "editable": true
   },
   "outputs": [
    {
     "name": "stdout",
     "output_type": "stream",
     "text": [
      "--- 0.025870800018310547 seconds for image preprocessing functions ---\n",
      "--- 1.745755910873413 seconds for creating the neural network ---\n",
      "--- 2.711277961730957 seconds for importing the model ---\n"
     ]
    }
   ],
   "source": [
    "# Start time measuring\n",
    "start_time = time.time()\n",
    "\n",
    "# Real-time data augmentation (This is only used while training the DNN)\n",
    "img_aug = ImageAugmentation()\n",
    "img_aug.add_random_blur(0.25)\n",
    "img_aug.add_random_rotation(max_angle=10.0)\n",
    "\n",
    "# Real-time data preprocessing\n",
    "img_prep = ImagePreprocessing()\n",
    "img_prep.add_featurewise_zero_center()\n",
    "img_prep.add_featurewise_stdnorm()\n",
    "print(\"--- %s seconds for image preprocessing functions ---\" % (time.time() - start_time))\n",
    "\n",
    "# Convolutional network building\n",
    "network = input_data(shape=[None, 320, 240, 3],\n",
    "                     data_augmentation=img_aug,\n",
    "                    data_preprocessing=img_prep)\n",
    "network = conv_2d(network, 16, 3, activation='relu')\n",
    "network = max_pool_2d(network, 2)\n",
    "network = conv_2d(network, 32, 3, activation='relu')\n",
    "network = max_pool_2d(network, 2)\n",
    "network = conv_2d(network, 64, 3, activation='relu')\n",
    "network = max_pool_2d(network, 2)\n",
    "network = fully_connected(network, 64, activation='relu')\n",
    "network = dropout(network, 1)\n",
    "network = fully_connected(network, 7, activation='softmax')\n",
    "network = regression(network, optimizer='adam',\n",
    "                     loss='categorical_crossentropy',\n",
    "                     learning_rate=0.001)\n",
    "\n",
    "# Create the Neural Network\n",
    "model = DNN(network, tensorboard_verbose=1)\n",
    "print(\"--- %s seconds for creating the neural network ---\" % (time.time() - start_time))\n",
    "\n",
    "# Load the model\n",
    "model.load('models/final_model_aug_prep')\n",
    "print(\"--- %s seconds for importing the model ---\" % (time.time() - start_time))"
   ]
  },
  {
   "cell_type": "markdown",
   "metadata": {
    "deletable": true,
    "editable": true
   },
   "source": [
    "## Get camera images and transform them to numpy arrays for live feeding into our cnn"
   ]
  },
  {
   "cell_type": "code",
   "execution_count": 3,
   "metadata": {
    "collapsed": false,
    "deletable": true,
    "editable": true
   },
   "outputs": [
    {
     "ename": "NameError",
     "evalue": "name 'picamera' is not defined",
     "output_type": "error",
     "traceback": [
      "\u001b[0;31m---------------------------------------------------------------------------\u001b[0m",
      "\u001b[0;31mNameError\u001b[0m                                 Traceback (most recent call last)",
      "\u001b[0;32m<ipython-input-3-256365b304dc>\u001b[0m in \u001b[0;36m<module>\u001b[0;34m()\u001b[0m\n\u001b[1;32m      3\u001b[0m \u001b[0;34m\u001b[0m\u001b[0m\n\u001b[1;32m      4\u001b[0m \u001b[0;31m# Capture images for prediction\u001b[0m\u001b[0;34m\u001b[0m\u001b[0;34m\u001b[0m\u001b[0m\n\u001b[0;32m----> 5\u001b[0;31m \u001b[0;32mwith\u001b[0m \u001b[0mpicamera\u001b[0m\u001b[0;34m.\u001b[0m\u001b[0mPiCamera\u001b[0m\u001b[0;34m(\u001b[0m\u001b[0;34m)\u001b[0m \u001b[0;32mas\u001b[0m \u001b[0mcamera\u001b[0m\u001b[0;34m:\u001b[0m\u001b[0;34m\u001b[0m\u001b[0m\n\u001b[0m\u001b[1;32m      6\u001b[0m     \u001b[0;32mwith\u001b[0m \u001b[0mpicamera\u001b[0m\u001b[0;34m.\u001b[0m\u001b[0marray\u001b[0m\u001b[0;34m.\u001b[0m\u001b[0mPiRGBArray\u001b[0m\u001b[0;34m(\u001b[0m\u001b[0mcamera\u001b[0m\u001b[0;34m)\u001b[0m \u001b[0;32mas\u001b[0m \u001b[0moutput\u001b[0m\u001b[0;34m:\u001b[0m\u001b[0;34m\u001b[0m\u001b[0m\n\u001b[1;32m      7\u001b[0m         \u001b[0mcamera\u001b[0m\u001b[0;34m.\u001b[0m\u001b[0mresolution\u001b[0m \u001b[0;34m=\u001b[0m \u001b[0;34m(\u001b[0m\u001b[0;36m640\u001b[0m\u001b[0;34m,\u001b[0m \u001b[0;36m480\u001b[0m\u001b[0;34m)\u001b[0m\u001b[0;34m\u001b[0m\u001b[0m\n",
      "\u001b[0;31mNameError\u001b[0m: name 'picamera' is not defined"
     ]
    }
   ],
   "source": [
    "# Start time measuring\n",
    "start_time = time.time()\n",
    "\n",
    "# Capture images for prediction\n",
    "with picamera.PiCamera() as camera:\n",
    "    with picamera.array.PiRGBArray(camera) as output:\n",
    "        camera.resolution = (640, 480)\n",
    "        print(\"--- %s seconds for camera ready to use ---\" % (time.time() - start_time))\n",
    "        camera.capture(output, 'rgb')\n",
    "        print(\"--- %s seconds for image captures and transformed ---\" % (time.time() - start_time))\n",
    "        print('Captured %dx%dx%d image' % (\n",
    "                output.array.shape[1], output.array.shape[0], output.array.shape[2]))\n",
    "        X = np.array([output.array.shape[1], output.array.shape[0], output.array.shape[2]])\n",
    "        prediction_time = time.time()\n",
    "        model.predict(X)\n",
    "        print(\"--- %s seconds for the prediction ---\" % (time.time() - prediction_time))\n",
    "        print(\"--- %s seconds for making a prediction ---\" % (time.time() - start_time))\n",
    "        output.truncate(0)"
   ]
  }
 ],
 "metadata": {
  "kernelspec": {
   "display_name": "Python 3",
   "language": "python",
   "name": "python3"
  },
  "language_info": {
   "codemirror_mode": {
    "name": "ipython",
    "version": 3
   },
   "file_extension": ".py",
   "mimetype": "text/x-python",
   "name": "python",
   "nbconvert_exporter": "python",
   "pygments_lexer": "ipython3",
   "version": "3.5.3"
  }
 },
 "nbformat": 4,
 "nbformat_minor": 2
}
