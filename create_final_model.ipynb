{
 "cells": [
  {
   "cell_type": "markdown",
   "metadata": {},
   "source": [
    "# Create convolutional neural network model"
   ]
  },
  {
   "cell_type": "markdown",
   "metadata": {},
   "source": [
    "## Imports"
   ]
  },
  {
   "cell_type": "code",
   "execution_count": 6,
   "metadata": {
    "collapsed": true
   },
   "outputs": [],
   "source": [
    "#import numpy as np\n",
    "#import h5py\n",
    "from tflearn import DNN\n",
    "from tflearn.data_utils import shuffle, to_categorical\n",
    "from tflearn.layers.core import input_data, dropout, fully_connected\n",
    "from tflearn.layers.conv import conv_2d, max_pool_2d\n",
    "from tflearn.layers.estimator import regression\n",
    "from tflearn.data_augmentation import ImageAugmentation\n",
    "from tflearn.data_utils import image_preloader\n",
    "from sklearn.model_selection import train_test_split"
   ]
  },
  {
   "cell_type": "markdown",
   "metadata": {},
   "source": [
    "## Get dataset"
   ]
  },
  {
   "cell_type": "code",
   "execution_count": 9,
   "metadata": {
    "collapsed": false
   },
   "outputs": [],
   "source": [
    "# Load path/class_id image file:\n",
    "data_folder = 'images/final_dataset'\n",
    "\n",
    "# Build the preloader array, resize images to 640x480\n",
    "X, Y = image_preloader(data_folder, image_shape=(480, 640), mode='folder', categorical_labels=True, normalize=True, files_extension='.jpg')"
   ]
  },
  {
   "cell_type": "markdown",
   "metadata": {},
   "source": [
    "### Image augmentation\n",
    "We use image augmentation to create a better training effect for real world situations. We randomly blur images and rotate them."
   ]
  },
  {
   "cell_type": "code",
   "execution_count": 4,
   "metadata": {
    "collapsed": true
   },
   "outputs": [],
   "source": [
    "# Real-time data augmentation (This is only used while training the DNN)\n",
    "img_aug = ImageAugmentation()\n",
    "# Add blur so even when our vehicle is moving it can detect images\n",
    "img_aug.add_random_blur(0.5)\n",
    "# Add a random rotation of 20 degrees to even capture rotated images (For our project max. 10 but your never know)\n",
    "img_aug.add_random_rotation(max_angle=20.0)"
   ]
  },
  {
   "cell_type": "markdown",
   "metadata": {},
   "source": [
    "### Convolutional neural network model"
   ]
  },
  {
   "cell_type": "code",
   "execution_count": 7,
   "metadata": {
    "collapsed": false
   },
   "outputs": [],
   "source": [
    "# Convolutional network building\n",
    "network = input_data(shape=[None, 620, 480, 3],\n",
    "                     data_augmentation=img_aug)\n",
    "network = conv_2d(network, 16, 3, activation='relu')\n",
    "network = max_pool_2d(network, 2)\n",
    "network = conv_2d(network, 16, 3, activation='relu')\n",
    "network = max_pool_2d(network, 2)\n",
    "network = conv_2d(network, 32, 3, activation='relu')\n",
    "network = max_pool_2d(network, 2)\n",
    "network = fully_connected(network, 32, activation='relu')\n",
    "network = dropout(network, 0.5)\n",
    "network = fully_connected(network, 7, activation='softmax')\n",
    "network = regression(network, optimizer='adam',\n",
    "                     loss='categorical_crossentropy',\n",
    "                     learning_rate=0.001)\n",
    "\n",
    "model = DNN(network, tensorboard_verbose=1)"
   ]
  },
  {
   "cell_type": "markdown",
   "metadata": {},
   "source": [
    "### Load the dataset "
   ]
  },
  {
   "cell_type": "code",
   "execution_count": null,
   "metadata": {
    "collapsed": false
   },
   "outputs": [],
   "source": [
    "# Load the final dataset\n",
    "#h5f = h5py.File('data/final_dataset.h5', 'r')\n",
    "#X = h5f['X']\n",
    "#Y = h5f['Y']\n",
    "\n",
    "# Cut Dataset in training and test set\n",
    "X, X_test, Y, Y_test = train_test_split(X, Y, test_size=0.1, random_state=42)"
   ]
  },
  {
   "cell_type": "markdown",
   "metadata": {},
   "source": [
    "### Train the model and save it"
   ]
  },
  {
   "cell_type": "code",
   "execution_count": null,
   "metadata": {
    "collapsed": true
   },
   "outputs": [],
   "source": [
    "# Start the trainig process\n",
    "model.fit(X, Y, n_epoch=5, shuffle=True, validation_set=0.2, show_metric=True, batch_size=128, validation_batch_size=128, run_id='final_model')\n",
    "\n",
    "# Evaluate performance on test set\n",
    "model.evaluate(X_test, Y_test)\n",
    "\n",
    "# Save the model\n",
    "model.save('models/final_model')\n",
    "\n",
    "# Close the database connection\n",
    "h5f.close()"
   ]
  }
 ],
 "metadata": {
  "kernelspec": {
   "display_name": "Python 3",
   "language": "python",
   "name": "python3"
  },
  "language_info": {
   "codemirror_mode": {
    "name": "ipython",
    "version": 3
   },
   "file_extension": ".py",
   "mimetype": "text/x-python",
   "name": "python",
   "nbconvert_exporter": "python",
   "pygments_lexer": "ipython3",
   "version": "3.4.2"
  }
 },
 "nbformat": 4,
 "nbformat_minor": 2
}
